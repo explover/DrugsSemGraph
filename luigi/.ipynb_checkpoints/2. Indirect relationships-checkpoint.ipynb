{
 "cells": [
  {
   "cell_type": "code",
   "execution_count": 2,
   "metadata": {
    "collapsed": true
   },
   "outputs": [],
   "source": [
    "# Web\n",
    "import requests as rq\n",
    "\n",
    "# Data analysis\n",
    "import numpy as np\n",
    "import pandas as pd\n",
    "import json\n",
    "%matplotlib notebook\n",
    "import seaborn as sns\n",
    "import matplotlib.pyplot as plt\n",
    "import matplotlib.patches as mpatches\n",
    "import random as rand\n",
    "\n",
    "# Convenience\n",
    "from tqdm import tqdm\n",
    "from collections import Counter, defaultdict\n",
    "from functools import partial\n",
    "import gc\n",
    "import pickle\n",
    "sns.set(style='darkgrid', palette='muted')"
   ]
  },
  {
   "cell_type": "markdown",
   "metadata": {},
   "source": [
    "## Load table"
   ]
  },
  {
   "cell_type": "code",
   "execution_count": 4,
   "metadata": {},
   "outputs": [],
   "source": [
    "# Load tables\n",
    "\n",
    "#big_table = pd.read_hdf(\"./big_table.hd5\")\n",
    "# table = pd.read_hdf(\"./table.hd5\")"
   ]
  },
  {
   "cell_type": "code",
   "execution_count": null,
   "metadata": {
    "collapsed": true
   },
   "outputs": [],
   "source": [
    "big_table = pd.read_hdf(\"./big_table.hd5\")"
   ]
  },
  {
   "cell_type": "code",
   "execution_count": null,
   "metadata": {
    "collapsed": true
   },
   "outputs": [],
   "source": [
    "table.head(25)"
   ]
  },
  {
   "cell_type": "code",
   "execution_count": null,
   "metadata": {
    "collapsed": true
   },
   "outputs": [],
   "source": [
    "big_table[big_table[1].str.contains(\"atorvastatin\")]"
   ]
  },
  {
   "cell_type": "code",
   "execution_count": null,
   "metadata": {
    "collapsed": true
   },
   "outputs": [],
   "source": [
    "table[table[\"Drug\"] == \"Vitamin C\"][\"drug_ids\"]"
   ]
  },
  {
   "cell_type": "code",
   "execution_count": null,
   "metadata": {
    "collapsed": true
   },
   "outputs": [],
   "source": [
    "for ind, row in table.iterrows():\n",
    "    if len(row[\"drug_ids\"]) == 2 and len(row[\"disease_ids\"]) > 3:\n",
    "        print(row[\"Disease\"], row[\"Drug\"], row[\"drug_ids\"], row[\"disease_ids\"])"
   ]
  },
  {
   "cell_type": "code",
   "execution_count": null,
   "metadata": {
    "collapsed": true
   },
   "outputs": [],
   "source": [
    "#table = pd.read_pickle(\"./table_all_indirect.pkl\")"
   ]
  },
  {
   "cell_type": "code",
   "execution_count": null,
   "metadata": {
    "collapsed": true
   },
   "outputs": [],
   "source": [
    "def get_first_without_direct(table):\n",
    "    for ind, row in table.iterrows():\n",
    "        if row[\"relation_info\"] == []:\n",
    "            return row"
   ]
  },
  {
   "cell_type": "code",
   "execution_count": null,
   "metadata": {
    "collapsed": true
   },
   "outputs": [],
   "source": [
    "# row = get_first_without_direct(table)\n",
    "# print(row[\"disease_ids\"], row[\"drug_ids\"], row[\"Drug\"], row[\"Disease\"])"
   ]
  },
  {
   "cell_type": "markdown",
   "metadata": {},
   "source": [
    "## API calls variables"
   ]
  },
  {
   "cell_type": "code",
   "execution_count": null,
   "metadata": {
    "collapsed": true
   },
   "outputs": [],
   "source": [
    "base_uri = \"https://euretos-brain.com/spine-ws/\"\n",
    "\n",
    "auth = \"/login/authenticate\"\n",
    "search = \"/external/concepts/search\"\n",
    "direct_semantic = \"/external/concept-to-semantic/direct\"\n",
    "indirect = \"/external/concept-to-concept/indirect\"\n",
    "size = \"?size=10000\""
   ]
  },
  {
   "cell_type": "markdown",
   "metadata": {},
   "source": [
    "## Authenticate"
   ]
  },
  {
   "cell_type": "code",
   "execution_count": null,
   "metadata": {
    "collapsed": true
   },
   "outputs": [],
   "source": [
    "login_info = json.load(open('../leiden_login_info/auth_info_main.json'))\n",
    "\n",
    "login_req = rq.post(base_uri + auth, json=login_info)\n",
    "\n",
    "headers = {'x-token': login_req.json()['token']}"
   ]
  },
  {
   "cell_type": "markdown",
   "metadata": {},
   "source": [
    "## Get indirect relations"
   ]
  },
  {
   "cell_type": "code",
   "execution_count": null,
   "metadata": {
    "collapsed": true
   },
   "outputs": [],
   "source": [
    "def get_indirect(row, table_number, row_number, filt=None):\n",
    "    drug_ids = list(map(str, row['drug_ids']))\n",
    "    disease_ids = list(map(str, row['disease_ids']))\n",
    "    json_drug = {\n",
    "      \"additionalFields\": ['directionalTriples', 'semanticCategory'],\n",
    "      \"positiveFilters\": [filt] if filt else [],\n",
    "      \"leftInputs\": drug_ids,\n",
    "      \"relationshipWeightAlgorithm\": \"PWS\",\n",
    "      \"rightInputs\": disease_ids,\n",
    "      \"sort\": \"ASC\"\n",
    "    }\n",
    "    print('*', end=\"\")\n",
    "    resp = rq.post(base_uri + indirect + size, json=json_drug, headers=headers)\n",
    "    filename = \"./indirect_jsons/{}_{}.json\".format(table_number, row_number)\n",
    "    with open(filename, \"w\") as file_for_json:\n",
    "        json.dump(resp.json(), file_for_json)\n",
    "    return"
   ]
  },
  {
   "cell_type": "code",
   "execution_count": null,
   "metadata": {
    "collapsed": true
   },
   "outputs": [],
   "source": [
    "table = pd.read_hdf(\"table.hd5\", key=\"w\")"
   ]
  },
  {
   "cell_type": "code",
   "execution_count": null,
   "metadata": {
    "collapsed": true
   },
   "outputs": [],
   "source": [
    "mapped_drugs_set = set()\n",
    "drugs_set = set()\n",
    "for ind, row in table.iterrows():\n",
    "    mapped_drugs_set.add(tuple(row[\"drug_ids\"]))\n",
    "    drugs_set.add(row[\"Drug\"])\n",
    "print(len(drugs_set), len(mapped_drugs_set))"
   ]
  },
  {
   "cell_type": "code",
   "execution_count": null,
   "metadata": {
    "collapsed": true
   },
   "outputs": [],
   "source": [
    "# genes_genomes = \"st:T028\""
   ]
  },
  {
   "cell_type": "code",
   "execution_count": null,
   "metadata": {
    "collapsed": true
   },
   "outputs": [],
   "source": [
    "# table_number = \"real\"\n",
    "# for row_number, row in table.iterrows():\n",
    "#     get_indirect(row, table_number, row_number)"
   ]
  },
  {
   "cell_type": "markdown",
   "metadata": {},
   "source": [
    "## Convenience stuff"
   ]
  },
  {
   "cell_type": "code",
   "execution_count": 2,
   "metadata": {
    "collapsed": true
   },
   "outputs": [],
   "source": [
    "class SpecialCounter(Counter):\n",
    "    ''' Counter, which can be divided by numeric. '''\n",
    "    def __truediv__(self, other):\n",
    "        new = SpecialCounter(self)\n",
    "        for key in new.keys():\n",
    "            new[key] /= other\n",
    "        return new"
   ]
  },
  {
   "cell_type": "code",
   "execution_count": 3,
   "metadata": {
    "collapsed": true
   },
   "outputs": [],
   "source": [
    "def partial_second(f, second):\n",
    "    ''' Helper function for reducing second \n",
    "    argument. '''\n",
    "    def f_part(first):\n",
    "        return f(first, second)\n",
    "    return f_part"
   ]
  },
  {
   "cell_type": "code",
   "execution_count": 4,
   "metadata": {
    "collapsed": true
   },
   "outputs": [],
   "source": [
    "def check_derangement(start, perm):\n",
    "    '''Checks if perm is derangement of start.'''\n",
    "    for o, p in zip(start, perm):\n",
    "        print(o, p)\n",
    "        if o == p:\n",
    "            return False\n",
    "    return True"
   ]
  },
  {
   "cell_type": "code",
   "execution_count": 5,
   "metadata": {
    "collapsed": true
   },
   "outputs": [],
   "source": [
    "def gimme_derangement(start, random_state):\n",
    "    '''Returns a derangemnet of start, which is pandas Series. \n",
    "    Need to provide random_state for sampling.'''\n",
    "    while True:\n",
    "        print(\"One more time.\")\n",
    "        random_state += 1\n",
    "        perm = start.sample(frac=1, random_state=random_state).reset_index(drop=True)\n",
    "        if check_derangement(start, perm):\n",
    "            break\n",
    "    return perm, random_state"
   ]
  },
  {
   "cell_type": "code",
   "execution_count": 6,
   "metadata": {
    "collapsed": true
   },
   "outputs": [],
   "source": [
    "def average(lst):\n",
    "    return sum(lst) / len(lst)"
   ]
  },
  {
   "cell_type": "code",
   "execution_count": 7,
   "metadata": {},
   "outputs": [
    {
     "name": "stdout",
     "output_type": "stream",
     "text": [
      "SpecialCounter({'a': 2, 's': 1, 'z': 1, 'm': 1, 'h': 1})\n",
      "SpecialCounter({'a': 1.0, 's': 0.5, 'z': 0.5, 'm': 0.5, 'h': 0.5})\n"
     ]
    }
   ],
   "source": [
    "sc = SpecialCounter(\"shazam\")\n",
    "print(sc)\n",
    "print(sc / 2)"
   ]
  },
  {
   "cell_type": "markdown",
   "metadata": {},
   "source": [
    "## Get semantic type counters"
   ]
  },
  {
   "cell_type": "code",
   "execution_count": 8,
   "metadata": {
    "collapsed": true
   },
   "outputs": [],
   "source": [
    "def sem_cat_gener(table, table_number, protocol=\"semanticCategory\"):\n",
    "    ''' Generator of semantic categories lists for \n",
    "    each drug-disease pair. protocol parameter can be \"semanticCategory\"\n",
    "    (by default), \"diversity\" or \"semanticType\"'''\n",
    "#     rows = table[\"all_in_between\"]\n",
    "    for ind, row in table.iterrows():\n",
    "        sem_cat_list = list()\n",
    "        drug_count = len(row[\"drug_ids\"])\n",
    "        disease_count = len(row[\"disease_ids\"])\n",
    "        json_filename = \"./indirect_jsons/{}_{}.json\".format(table_number, ind)\n",
    "        \n",
    "        with open(json_filename, \"r\") as json_file:\n",
    "            all_in_between = json.load(json_file)\n",
    "            content = all_in_between[\"content\"]\n",
    "            \n",
    "        for entry in content:\n",
    "            concept = entry[\"concepts\"][1]\n",
    "            if protocol == \"semanticType\":\n",
    "                sem_types = [SEM_TYPES[sem_type] if sem_type in SEM_TYPES else sem_type \n",
    "                            for sem_type in concept[\"semanticTypes\"]]\n",
    "                sem_cat_list = sem_cat_list + sem_types\n",
    "            elif protocol == \"semanticCategory\" or protocol == \"diversity\":\n",
    "                sem_cat_list.append(concept[\"semanticCategory\"])\n",
    "        yield sem_cat_list, drug_count, disease_count\n",
    "    #         if  length > 3:\n",
    "    #             print(length)\n",
    "    return\n",
    "\n",
    "def get_sem_cat_counter_list(table, table_number, protocol=\"semanticCategory\"):\n",
    "    '''protocol parameter can be \"semanticCategory\" (by default), \"diversity\" or \"semanticType\" '''\n",
    "    assert protocol in [\"semanticType\", \"diversity\", \"semanticCategory\"]\n",
    "\n",
    "    if protocol == \"diversity\":\n",
    "        sem_cat_counter_list = [(SpecialCounter(sem_cat_list), drug_count * disease_count) \n",
    "                                for sem_cat_list, drug_count, disease_count \n",
    "                                in sem_cat_gener(table, table_number, protocol) \n",
    "                                if drug_count * disease_count != 0]\n",
    "    elif protocol == \"semanticCategory\":\n",
    "        sem_cat_counter_list = [SpecialCounter(sem_cat_list) / (drug_count * disease_count) \n",
    "                                for sem_cat_list, drug_count, disease_count \n",
    "                                in sem_cat_gener(table, table_number, protocol)]\n",
    "    elif protocol == \"semanticType\":\n",
    "        sem_cat_counter_list = [SpecialCounter(sem_cat_list) / (drug_count * disease_count) \n",
    "                                for sem_cat_list, drug_count, disease_count \n",
    "                                in sem_cat_gener(table, table_number, protocol)]\n",
    "    return sem_cat_counter_list\n",
    "\n",
    "def get_hist(counter_list, cat=None, bins=None):\n",
    "    if cat is not None:\n",
    "        get_track_key = partial_second(Counter.__getitem__, cat)\n",
    "        track = list(map(get_track_key, counter_list))\n",
    "    else:\n",
    "        track = counter_list        \n",
    "    if bins is not None:\n",
    "        hist = np.histogram(track, bins=bins)\n",
    "    else:\n",
    "        hist = np.histogram(track, bins=100)\n",
    "    return hist\n",
    "\n",
    "def plot_for_cat(cat, sem_cat_counter_list, color, bins, stds=None, max_lim=None):\n",
    "    ''' Function for plotting distribution by category. '''\n",
    "    \n",
    "    if stds:\n",
    "        bin_width = bins[1] - bins[0]\n",
    "        bins = bins[:-1] # getting left edges for bar plot\n",
    "        plt.bar(bins, sem_cat_counter_list, color=color, width=bin_width, yerr=stds, alpha=0.5)\n",
    "        \n",
    "    else:\n",
    "        get_track_key = partial_second(Counter.__getitem__, cat)\n",
    "        track = list(map(get_track_key, sem_cat_counter_list))\n",
    "        min_lim = 0\n",
    "        if cat == \"Genes & Molecular Sequences\":\n",
    "            max_lim = np.percentile(track, 90)\n",
    "        else:\n",
    "            max_lim = np.percentile(track, 80)\n",
    "        for i in range(len(bins) - 1):\n",
    "            if bins[i] < max_lim and bins[i + 1] > max_lim:\n",
    "                prev_max_bin = bins[i]\n",
    "                max_bin = bins[i + 1] \n",
    "                break\n",
    "        plt.xlim(min_lim, max_bin)\n",
    "        bins = (bins[:-1] + bins[1:]) / 2\n",
    "        plt.hist(track, color=color, bins=bins, alpha=0.5, range=(min_lim, max_lim))\n",
    "        return max_lim\n",
    "        \n",
    "    plt.xlabel(\"Normalized number of semantic category occurence between drug and disease\")\n",
    "    plt.ylabel(\"Drug-disease count\")\n",
    "    \n",
    "def plot_both(cat, real_counter, randomized_counter_list):\n",
    "    ''' Plots both random and nonrandom distributions \n",
    "    of concept counts within semantic category. ''' \n",
    "    bins = get_binsizes(cat, real_counter, randomized_counter_list)\n",
    "    plt.figure()\n",
    "\n",
    "    stds, avg_hist = get_stds_avghist(randomized_counter_list, bins, cat)\n",
    "    \n",
    "    max_lim = plot_for_cat(cat, real_counter, \"red\", bins)\n",
    "    red_patch = mpatches.Patch(color=\"red\", alpha=0.5, label=\"positive\")\n",
    "    plot_for_cat(cat, avg_hist, \"black\", bins, stds, max_lim)\n",
    "    black_patch = mpatches.Patch(color=\"black\", alpha=0.5, label=\"negative\")\n",
    "    plt.legend(handles=[red_patch, black_patch])\n",
    "    plt.title(cat)\n",
    "    plt.savefig(\"/home/explover/%s.png\" % cat, format=\"png\")\n",
    "\n",
    "def get_stds_avghist(counter_list, bins, cat=None):\n",
    "    ''' Gets standard deviations and average bar heights\n",
    "    for list of distributions. '''\n",
    "    \n",
    "    hist_list = [get_hist(counter, cat, bins)[0] for counter in counter_list]\n",
    "    stds = list(map(np.std, zip(*hist_list)))\n",
    "    avghist = list(map(average, zip(*hist_list)))\n",
    "    return stds, avghist\n",
    "\n",
    "def get_binsizes(cat, real_counter, randomized_counter_list):\n",
    "    summed_randomized_counter = list()\n",
    "    scaled_real_counter = list()\n",
    "    for counter in randomized_counter_list:\n",
    "        scaled_real_counter += real_counter\n",
    "        summed_randomized_counter += counter\n",
    "    sum_hist = get_hist(scaled_real_counter + summed_randomized_counter, cat)\n",
    "    bins = sum_hist[1]\n",
    "    return bins"
   ]
  },
  {
   "cell_type": "markdown",
   "metadata": {
    "heading_collapsed": true
   },
   "source": [
    "## Check intermediate concepts"
   ]
  },
  {
   "cell_type": "code",
   "execution_count": null,
   "metadata": {
    "collapsed": true,
    "hidden": true
   },
   "outputs": [],
   "source": [
    "def check_length(table):\n",
    "    rows = table[\"all_in_between\"]\n",
    "    for i, row in enumerate(rows):\n",
    "        print(i, row['totalElements'])"
   ]
  },
  {
   "cell_type": "markdown",
   "metadata": {
    "collapsed": true
   },
   "source": [
    "## Randomize table and fetch indirect relations"
   ]
  },
  {
   "cell_type": "code",
   "execution_count": null,
   "metadata": {
    "collapsed": true
   },
   "outputs": [],
   "source": []
  },
  {
   "cell_type": "code",
   "execution_count": 11,
   "metadata": {
    "collapsed": true
   },
   "outputs": [],
   "source": [
    "number = 10"
   ]
  },
  {
   "cell_type": "code",
   "execution_count": 12,
   "metadata": {
    "collapsed": true
   },
   "outputs": [],
   "source": [
    "def randomize_drugs_diseases(number, table):\n",
    "    ''' Randomizes table and fetches indirect \n",
    "    relations certain number of times.'''\n",
    "    random_table_counters = list()\n",
    "    \n",
    "    existing_set = set(zip(map(tuple, table[\"drug_ids\"]), map(tuple, table[\"disease_ids\"])))\n",
    "    drug_ids_set = set(map(tuple, table[\"drug_ids\"]))\n",
    "    disease_ids_set = set(map(tuple, table[\"disease_ids\"]))\n",
    "    \n",
    "    for num in range(number):\n",
    "        rand.seed(0)\n",
    "        random_table = pd.DataFrame(columns=['drug_ids', 'disease_ids'])\n",
    "        sample_size = 0\n",
    "        while sample_size < len(table):\n",
    "            while True:\n",
    "                drug_ids = rand.choice(list(drug_ids_set))\n",
    "                disease_ids = rand.choice(list(disease_ids_set))\n",
    "                drug_disease = (drug_ids, disease_ids)\n",
    "                if not drug_disease in existing_set:\n",
    "                    existing_set.add(drug_disease)\n",
    "                    random_table.loc[sample_size] = [drug_ids, disease_ids]\n",
    "                    sample_size += 1\n",
    "                    break\n",
    "    \n",
    "        print(\"Fetching indirect...\")\n",
    "        for row_number, row in random_table.iterrows():\n",
    "            get_indirect(row, num, row_number)\n",
    "        counter = get_sem_cat_counter_list(random_table, num)        \n",
    "        random_table_counters.append(counter)\n",
    "        random_table.to_hdf('./random/little_random_table_%i.hd5' % num, 'w') # for safety\n",
    "\n",
    "    return random_table_counters\n",
    "\n",
    "def get_counters(number, protocol=\"semanticCategory\"):\n",
    "    '''Gets counters from existing tables and corresponding jsons.'''\n",
    "    random_table_counters = list()\n",
    "    for num in tqdm(range(number)):\n",
    "        random_table = pd.read_hdf(\"./id_table_neg_%i.hdf\" % num)\n",
    "        counter_list = get_sem_cat_counter_list(random_table, num, protocol)\n",
    "        random_table_counters.append(counter_list)\n",
    "        \n",
    "    return random_table_counters"
   ]
  },
  {
   "cell_type": "code",
   "execution_count": 14,
   "metadata": {},
   "outputs": [
    {
     "name": "stderr",
     "output_type": "stream",
     "text": [
      "\n",
      "  0%|          | 0/10 [00:00<?, ?it/s]\u001b[A\n",
      "100%|██████████| 10/10 [02:09<00:00, 14.10s/it]\n"
     ]
    }
   ],
   "source": [
    "# random_table_counters = randomize_drugs_diseases(number, table)\n",
    "random_table_counters = get_counters(10)"
   ]
  },
  {
   "cell_type": "code",
   "execution_count": 15,
   "metadata": {},
   "outputs": [
    {
     "ename": "NameError",
     "evalue": "name 'table' is not defined",
     "output_type": "error",
     "traceback": [
      "\u001b[0;31m---------------------------------------------------------------------------\u001b[0m",
      "\u001b[0;31mNameError\u001b[0m                                 Traceback (most recent call last)",
      "\u001b[0;32m<ipython-input-15-3675cebe434e>\u001b[0m in \u001b[0;36m<module>\u001b[0;34m()\u001b[0m\n\u001b[0;32m----> 1\u001b[0;31m \u001b[0mnonrandom_counter_list\u001b[0m \u001b[0;34m=\u001b[0m \u001b[0mget_sem_cat_counter_list\u001b[0m\u001b[0;34m(\u001b[0m\u001b[0mtable\u001b[0m\u001b[0;34m,\u001b[0m \u001b[0;34m\"real\"\u001b[0m\u001b[0;34m)\u001b[0m\u001b[0;34m\u001b[0m\u001b[0m\n\u001b[0m",
      "\u001b[0;31mNameError\u001b[0m: name 'table' is not defined"
     ]
    }
   ],
   "source": [
    "nonrandom_counter_list = get_sem_cat_counter_list(table, \"real\")"
   ]
  },
  {
   "cell_type": "code",
   "execution_count": null,
   "metadata": {
    "collapsed": true
   },
   "outputs": [],
   "source": [
    "table[[\"Disease\", \"Drug\", \"Drugbank ID\", \"Palliative\", \"In FDA label\", \"Relative Efficacy (RE)\", \"Indication (from DailyMed)\", \"Note\"]].head(20)"
   ]
  },
  {
   "cell_type": "markdown",
   "metadata": {},
   "source": [
    "## Plot count within semantic categories"
   ]
  },
  {
   "cell_type": "code",
   "execution_count": null,
   "metadata": {
    "collapsed": true
   },
   "outputs": [],
   "source": [
    "# Get semantic categories\n",
    "cats = set()\n",
    "for counter in nonrandom_counter_list:\n",
    "    cats = cats | set(counter.keys())"
   ]
  },
  {
   "cell_type": "code",
   "execution_count": null,
   "metadata": {
    "collapsed": true
   },
   "outputs": [],
   "source": [
    "for cat in cats:\n",
    "    plot_both(cat, nonrandom_counter_list, random_table_counters)"
   ]
  },
  {
   "cell_type": "markdown",
   "metadata": {},
   "source": [
    "## Plot diversity"
   ]
  },
  {
   "cell_type": "code",
   "execution_count": null,
   "metadata": {
    "collapsed": true
   },
   "outputs": [],
   "source": [
    "def plot_diversity(nonrandom_counter, random_counter_list):\n",
    "    diversity_random_list_list = [[len(counter.keys()) / norm for counter, norm in random_counter] \n",
    "                           for random_counter in random_counter_list]\n",
    "    diversity_nonrandom_list = [len(counter.keys()) / norm for counter, norm in nonrandom_counter]\n",
    "    \n",
    "    whole_diversity_random_list = list()\n",
    "    for diversity_random_list in diversity_random_list_list:\n",
    "        whole_diversity_random_list += diversity_random_list\n",
    "    diversity_bins = 13 # questionable\n",
    "    \n",
    "    stds, avg_hist = get_stds_avghist(counter_list=diversity_random_list_list, bins=diversity_bins)\n",
    "    \n",
    "    print(diversity_bins)\n",
    "    _, bins = np.histogram(diversity_nonrandom_list, bins=diversity_bins)\n",
    "    bin_width = bins[1] - bins[0]\n",
    "    bins = np.array([biner - bin_width / 2 for biner in bins])\n",
    "    plt.hist(diversity_nonrandom_list, bins=bins, color=\"red\", alpha=0.5)\n",
    "    bins = np.array([biner + bin_width / 2 for biner in bins])\n",
    "    bins = bins[:-1] # getting left edges for bar plot\n",
    "    plt.bar(bins, avg_hist, color=\"black\", width=bin_width, yerr=stds, alpha=0.5)\n",
    "    \n",
    "#     plt.title(\"Diversity\")\n",
    "    red_patch = mpatches.Patch(color=\"red\", alpha=0.5, label=\"positive data\")\n",
    "    black_patch = mpatches.Patch(color=\"black\", alpha=0.5, label=\"negative data\")\n",
    "    plt.legend(handles=[red_patch, black_patch])\n",
    "    plt.xlabel(\"Diversity of semantic categories between drug and disease\")\n",
    "    plt.ylabel(\"Count\")"
   ]
  },
  {
   "cell_type": "code",
   "execution_count": null,
   "metadata": {
    "collapsed": true
   },
   "outputs": [],
   "source": [
    "diversity_random_counter_list = get_counters(number, diversity=True)"
   ]
  },
  {
   "cell_type": "code",
   "execution_count": null,
   "metadata": {
    "collapsed": true
   },
   "outputs": [],
   "source": [
    "diversity_nonrandom_counter = get_sem_cat_counter_list(table, table_number=\"real\", diversity=True)"
   ]
  },
  {
   "cell_type": "code",
   "execution_count": null,
   "metadata": {
    "collapsed": true
   },
   "outputs": [],
   "source": [
    "plt.figure()\n",
    "plot_diversity(diversity_nonrandom_counter, diversity_random_counter_list)"
   ]
  },
  {
   "cell_type": "code",
   "execution_count": null,
   "metadata": {
    "collapsed": true
   },
   "outputs": [],
   "source": [
    "diversity_random_counter_list = get_counters(number, diversity=True)\n",
    "plot_diversity(five_nonrandom_counter, diversity_random_counter_list)"
   ]
  },
  {
   "cell_type": "code",
   "execution_count": null,
   "metadata": {
    "collapsed": true
   },
   "outputs": [],
   "source": [
    "\n",
    "for _, row in table.iterrows():\n",
    "    if row[\"disease_ids\"] == []:\n",
    "        print(row)"
   ]
  },
  {
   "cell_type": "markdown",
   "metadata": {},
   "source": [
    "1. Count concept types for random and nonrandom tables\n",
    "2. Count diversity of types and for each type count concepts in between\n",
    "- normalize by drug and disease count\n",
    "3. Define good predicate combinations"
   ]
  }
 ],
 "metadata": {
  "kernelspec": {
   "display_name": "Python 3",
   "language": "python",
   "name": "python3"
  },
  "language_info": {
   "codemirror_mode": {
    "name": "ipython",
    "version": 3
   },
   "file_extension": ".py",
   "mimetype": "text/x-python",
   "name": "python",
   "nbconvert_exporter": "python",
   "pygments_lexer": "ipython3",
   "version": "3.5.3"
  }
 },
 "nbformat": 4,
 "nbformat_minor": 1
}
